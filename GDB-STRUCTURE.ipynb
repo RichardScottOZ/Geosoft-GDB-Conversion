{
 "cells": [
  {
   "cell_type": "code",
   "execution_count": 36,
   "id": "9f2bcf69",
   "metadata": {},
   "outputs": [],
   "source": [
    "import struct\n",
    "import array\n",
    "import zlib\n",
    "import gzip\n",
    "import numpy as np\n",
    "import xarray as xr\n"
   ]
  },
  {
   "cell_type": "code",
   "execution_count": 7,
   "id": "6427b680",
   "metadata": {},
   "outputs": [
    {
     "name": "stdout",
     "output_type": "stream",
     "text": [
      "File Description: \u0002\u0010\b\u0001\n",
      "Magic Number: 50\n"
     ]
    }
   ],
   "source": [
    "def read_gdb_file(file_path):\n",
    "    with open(file_path, 'rb') as file:\n",
    "\n",
    "        header = file.read(24)\n",
    "        #file_code, = struct.unpack('<i', header[:4])\n",
    "        file_description = header[4:24].decode('utf-8').strip('\\x00')\n",
    "        \n",
    "        magic_number = struct.unpack(\"<I\", file.read(4))[0]\n",
    "        \n",
    "        #print(f\"File Code: {file_code}\")\n",
    "        print(f\"File Description: {file_description}\")\n",
    "        \n",
    "        print(f\"Magic Number: {magic_number}\")\n",
    "\n",
    "# Use the function\n",
    "read_gdb_file('data/DB_1116.gdb')"
   ]
  },
  {
   "cell_type": "code",
   "execution_count": 35,
   "id": "a76e8206",
   "metadata": {},
   "outputs": [
    {
     "name": "stdout",
     "output_type": "stream",
     "text": [
      "b'\\x02\\x10\\x08'\n",
      "b'!CBD\\x00\\x00\\x00\\x00\\x00\\x00\\x02\\x10\\x08\\x01\\x00\\x00\\x00\\x00\\x00\\x00\\x00\\x00\\x00\\x002\\x00\\x00\\x00^\\x01\\x00\\x00d\\x00\\x00\\x00\\xc8\\x00\\x00\\x00\\n\\x00\\x00\\x00\\xdc(\\x00\\x00\\x10\\'\\x00\\x00n(\\x00\\x00x(\\x00\\x00x(\\x00\\x00b\\x02\\x00\\x00\\x00\\x00\\x00\\x00^\\x01\\x00\\x00&\\x02\\x00\\x00X\\x02\\x00\\x00^\\x01\\x00\\x00\\xc8\\x00\\x00\\x002\\x00\\x00\\x00\\n\\x00\\x00\\x00\\x00\\x04\\x00\\x00@\\'\\x02\\x00\\x8a\\x00\\x00\\x00\"=\\x00\\x00\\x00\\x00\\x00\\x00\\x01\\x00\\x00\\x00\\x00\\x00\\x00\\x00\\x00\\x00\\x00\\x00\\x00\\x00\\x00\\x00\\x00\\x00\\x00\\x00\\x00\\x00\\x00\\x00\\x00\\x00\\x00\\x00\\x00\\x00\\x00\\x00\\x00\\x00\\x00\\x00\\x00\\x00\\x00\\x00\\x00\\x00\\x00\\x00\\x00\\x00\\x00\\x00\\x00\\x00\\x00\\x00\\x00\\x00\\x00\\x00\\x00\\x00\\x00\\x00\\x00\\x00\\x00\\x00\\x00\\x00\\x00\\x00\\x00\\x00\\x00\\x00\\x00\\x00\\x00\\x00\\x00\\x00\\x00\\x00\\x00\\x00\\x00\\x00\\x00\\x00\\x00\\x00\\x00\\x00\\x00\\x00\\x00\\x00\\x00\\x00\\x00\\x00\\x00\\x00\\x00\\x00\\x00\\x00\\x00\\x00\\x00\\x00\\x00\\x00\\x00\\x00\\x00\\x00\\x00\\x00\\x00\\x00\\x00\\x00\\x00\\x00\\x00\\x00\\x00\\x00\\x00\\x00\\x00\\x00\\x00\\x00\\x00\\x00\\x00\\x00'\n",
      "Header Data: (b'!', b'C', b'B', b'D')\n"
     ]
    }
   ],
   "source": [
    "def read_geosoft_gdb(file_path):\n",
    "    with open(file_path, 'rb') as file:\n",
    "        # Read the header (example: assuming the header is 256 bytes)\n",
    "        header = file.read(256)\n",
    "        print(header[10:13])\n",
    "        print(header)\n",
    "        \n",
    "        # Unpack the header (example: assuming the header contains an integer and a float)\n",
    "        #header_data = struct.unpack('if', header[:8])\n",
    "        header_data = struct.unpack('ssss', header[:4])\n",
    "        print(\"Header Data:\", header_data)\n",
    "        \n",
    "        # Read the rest of the file (example: assuming the rest of the file contains records of 16 bytes each)\n",
    "        while True:\n",
    "            record = file.read(16)\n",
    "            break\n",
    "            if not record:\n",
    "                break\n",
    "            # Unpack the record (example: assuming each record contains two integers and two floats)\n",
    "            record_data = struct.unpack('iiff', record)\n",
    "            print(\"Record Data:\", record_data)\n",
    "\n",
    "# Example usage\n",
    "read_geosoft_gdb('data/DB_1116.gdb') "
   ]
  },
  {
   "cell_type": "code",
   "execution_count": 33,
   "id": "ac2a0b35",
   "metadata": {},
   "outputs": [
    {
     "name": "stdout",
     "output_type": "stream",
     "text": [
      "Found zlib (deflate) compression marker at offset 0003334A\n",
      "Found zlib (deflate) compression marker at offset 0002E59C\n",
      "Found GZIP compression marker at offset 000ECF32\n",
      "BZIP2 marker not found\n",
      "LZMA marker not found\n",
      "ZIP marker not found\n"
     ]
    }
   ],
   "source": [
    "def search_for_patterns(file_path):\n",
    "    # Known compression signatures and their descriptions\n",
    "    patterns = {\n",
    "        b'\\x78\\x9C': 'zlib (deflate)',\n",
    "        b'\\x78\\xDA': 'zlib (deflate)',\n",
    "        b'\\x1F\\x8B': 'GZIP',\n",
    "        b'\\x42\\x5A\\x68': 'BZIP2',\n",
    "        b'\\xFD\\x37\\x7A\\x58\\x5A\\x00': 'LZMA',\n",
    "        b'\\x50\\x4B\\x03\\x04': 'ZIP'\n",
    "    }\n",
    "\n",
    "    with open(file_path, 'rb') as file:\n",
    "        data = file.read()\n",
    "    \n",
    "    # Search for each pattern in the binary data\n",
    "    for pattern, description in patterns.items():\n",
    "        offset = data.find(pattern)\n",
    "        if offset != -1:\n",
    "            print(f\"Found {description} compression marker at offset {offset:08X}\")\n",
    "        else:\n",
    "            print(f\"{description} marker not found\")\n",
    "\n",
    "# Replace with the path to your binary file\n",
    "search_for_patterns('data/DB_1116.gdb')\n"
   ]
  },
  {
   "cell_type": "code",
   "execution_count": 37,
   "id": "f57d9a03",
   "metadata": {},
   "outputs": [
    {
     "name": "stdout",
     "output_type": "stream",
     "text": [
      "\n",
      "Attempting to decompress zlib data at offset 0003334A\n",
      "Failed to decompress zlib data at offset 0003334A: Error -3 while decompressing data: invalid block type\n",
      "\n",
      "Attempting to decompress zlib data at offset 0002E59C\n",
      "Failed to decompress zlib data at offset 0002E59C: Error -3 while decompressing data: invalid code lengths set\n",
      "\n",
      "Attempting to decompress GZIP data at offset 000ECF32\n",
      "Failed to decompress GZIP data at offset 000ECF32: Unknown compression method\n"
     ]
    }
   ],
   "source": [
    "\n",
    "def decompress_zlib(data, offset):\n",
    "    try:\n",
    "        # Attempt decompression starting from the given offset\n",
    "        decompressed_data = zlib.decompress(data[offset:])\n",
    "        print(f\"Decompressed zlib data from offset {offset:08X} (first 100 bytes): {decompressed_data[:100]}\")\n",
    "        return decompressed_data\n",
    "    except zlib.error as e:\n",
    "        print(f\"Failed to decompress zlib data at offset {offset:08X}: {e}\")\n",
    "        return None\n",
    "\n",
    "def decompress_gzip(data, offset):\n",
    "    try:\n",
    "        # Gzip requires wrapping the data in a file-like object\n",
    "        decompressed_data = gzip.decompress(data[offset:])\n",
    "        print(f\"Decompressed GZIP data from offset {offset:08X} (first 100 bytes): {decompressed_data[:100]}\")\n",
    "        return decompressed_data\n",
    "    except gzip.BadGzipFile as e:\n",
    "        print(f\"Failed to decompress GZIP data at offset {offset:08X}: {e}\")\n",
    "        return None\n",
    "\n",
    "def read_and_decompress(file_path):\n",
    "    with open(file_path, 'rb') as file:\n",
    "        data = file.read()\n",
    "    \n",
    "    # Found offsets for zlib and GZIP markers\n",
    "    zlib_offsets = [0x3334A, 0x2E59C]\n",
    "    gzip_offsets = [0xECF32]\n",
    "    \n",
    "    # Process zlib sections\n",
    "    for offset in zlib_offsets:\n",
    "        print(f\"\\nAttempting to decompress zlib data at offset {offset:08X}\")\n",
    "        decompressed_data = decompress_zlib(data, offset)\n",
    "    \n",
    "    # Process GZIP sections\n",
    "    for offset in gzip_offsets:\n",
    "        print(f\"\\nAttempting to decompress GZIP data at offset {offset:08X}\")\n",
    "        decompressed_data = decompress_gzip(data, offset)\n",
    "\n",
    "# Replace with the path to your binary file\n",
    "read_and_decompress('data/DB_1116.gdb')\n"
   ]
  },
  {
   "cell_type": "code",
   "execution_count": null,
   "id": "79ee5cb5",
   "metadata": {},
   "outputs": [],
   "source": []
  }
 ],
 "metadata": {
  "kernelspec": {
   "display_name": "Python [conda env:pangeo] *",
   "language": "python",
   "name": "conda-env-pangeo-py"
  },
  "language_info": {
   "codemirror_mode": {
    "name": "ipython",
    "version": 3
   },
   "file_extension": ".py",
   "mimetype": "text/x-python",
   "name": "python",
   "nbconvert_exporter": "python",
   "pygments_lexer": "ipython3",
   "version": "3.9.16"
  }
 },
 "nbformat": 4,
 "nbformat_minor": 5
}
