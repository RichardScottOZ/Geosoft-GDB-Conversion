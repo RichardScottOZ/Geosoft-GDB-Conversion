{
 "cells": [
  {
   "cell_type": "code",
   "execution_count": 36,
   "id": "2cde4d8b",
   "metadata": {},
   "outputs": [],
   "source": [
    "import struct\n",
    "import array\n",
    "import zlib\n",
    "import gzip\n",
    "import numpy as np\n",
    "import xarray as xr\n"
   ]
  },
  {
   "cell_type": "code",
   "execution_count": 7,
   "id": "120b6d5a",
   "metadata": {},
   "outputs": [
    {
     "name": "stdout",
     "output_type": "stream",
     "text": [
      "File Description: \u0002\u0010\b\u0001\n",
      "Magic Number: 50\n"
     ]
    }
   ],
   "source": [
    "def read_gdb_file(file_path):\n",
    "    with open(file_path, 'rb') as file:\n",
    "\n",
    "        header = file.read(24)\n",
    "        #file_code, = struct.unpack('<i', header[:4])\n",
    "        file_description = header[4:24].decode('utf-8').strip('\\x00')\n",
    "        \n",
    "        magic_number = struct.unpack(\"<I\", file.read(4))[0]\n",
    "        \n",
    "        #print(f\"File Code: {file_code}\")\n",
    "        print(f\"File Description: {file_description}\")\n",
    "        \n",
    "        print(f\"Magic Number: {magic_number}\")\n",
    "\n",
    "# Use the function\n",
    "read_gdb_file('data/DB_1116.gdb')"
   ]
  },
  {
   "cell_type": "code",
   "execution_count": 35,
   "id": "bce78136",
   "metadata": {},
   "outputs": [
    {
     "name": "stdout",
     "output_type": "stream",
     "text": [
      "b'\\x02\\x10\\x08'\n",
      "b'!CBD\\x00\\x00\\x00\\x00\\x00\\x00\\x02\\x10\\x08\\x01\\x00\\x00\\x00\\x00\\x00\\x00\\x00\\x00\\x00\\x002\\x00\\x00\\x00^\\x01\\x00\\x00d\\x00\\x00\\x00\\xc8\\x00\\x00\\x00\\n\\x00\\x00\\x00\\xdc(\\x00\\x00\\x10\\'\\x00\\x00n(\\x00\\x00x(\\x00\\x00x(\\x00\\x00b\\x02\\x00\\x00\\x00\\x00\\x00\\x00^\\x01\\x00\\x00&\\x02\\x00\\x00X\\x02\\x00\\x00^\\x01\\x00\\x00\\xc8\\x00\\x00\\x002\\x00\\x00\\x00\\n\\x00\\x00\\x00\\x00\\x04\\x00\\x00@\\'\\x02\\x00\\x8a\\x00\\x00\\x00\"=\\x00\\x00\\x00\\x00\\x00\\x00\\x01\\x00\\x00\\x00\\x00\\x00\\x00\\x00\\x00\\x00\\x00\\x00\\x00\\x00\\x00\\x00\\x00\\x00\\x00\\x00\\x00\\x00\\x00\\x00\\x00\\x00\\x00\\x00\\x00\\x00\\x00\\x00\\x00\\x00\\x00\\x00\\x00\\x00\\x00\\x00\\x00\\x00\\x00\\x00\\x00\\x00\\x00\\x00\\x00\\x00\\x00\\x00\\x00\\x00\\x00\\x00\\x00\\x00\\x00\\x00\\x00\\x00\\x00\\x00\\x00\\x00\\x00\\x00\\x00\\x00\\x00\\x00\\x00\\x00\\x00\\x00\\x00\\x00\\x00\\x00\\x00\\x00\\x00\\x00\\x00\\x00\\x00\\x00\\x00\\x00\\x00\\x00\\x00\\x00\\x00\\x00\\x00\\x00\\x00\\x00\\x00\\x00\\x00\\x00\\x00\\x00\\x00\\x00\\x00\\x00\\x00\\x00\\x00\\x00\\x00\\x00\\x00\\x00\\x00\\x00\\x00\\x00\\x00\\x00\\x00\\x00\\x00\\x00\\x00\\x00\\x00\\x00\\x00\\x00\\x00\\x00'\n",
      "Header Data: (b'!', b'C', b'B', b'D')\n"
     ]
    }
   ],
   "source": [
    "def read_geosoft_gdb(file_path):\n",
    "    with open(file_path, 'rb') as file:\n",
    "        # Read the header (example: assuming the header is 256 bytes)\n",
    "        header = file.read(256)\n",
    "        print(header[10:13])\n",
    "        print(header)\n",
    "        \n",
    "        # Unpack the header (example: assuming the header contains an integer and a float)\n",
    "        #header_data = struct.unpack('if', header[:8])\n",
    "        header_data = struct.unpack('ssss', header[:4])\n",
    "        print(\"Header Data:\", header_data)\n",
    "        \n",
    "        # Read the rest of the file (example: assuming the rest of the file contains records of 16 bytes each)\n",
    "        while True:\n",
    "            record = file.read(16)\n",
    "            break\n",
    "            if not record:\n",
    "                break\n",
    "            # Unpack the record (example: assuming each record contains two integers and two floats)\n",
    "            record_data = struct.unpack('iiff', record)\n",
    "            print(\"Record Data:\", record_data)\n",
    "\n",
    "# Example usage\n",
    "read_geosoft_gdb('data/DB_1116.gdb') "
   ]
  },
  {
   "cell_type": "code",
   "execution_count": 33,
   "id": "76e16f90",
   "metadata": {},
   "outputs": [
    {
     "name": "stdout",
     "output_type": "stream",
     "text": [
      "Found zlib (deflate) compression marker at offset 0003334A\n",
      "Found zlib (deflate) compression marker at offset 0002E59C\n",
      "Found GZIP compression marker at offset 000ECF32\n",
      "BZIP2 marker not found\n",
      "LZMA marker not found\n",
      "ZIP marker not found\n"
     ]
    }
   ],
   "source": [
    "def search_for_patterns(file_path):\n",
    "    # Known compression signatures and their descriptions\n",
    "    patterns = {\n",
    "        b'\\x78\\x9C': 'zlib (deflate)',\n",
    "        b'\\x78\\xDA': 'zlib (deflate)',\n",
    "        b'\\x1F\\x8B': 'GZIP',\n",
    "        b'\\x42\\x5A\\x68': 'BZIP2',\n",
    "        b'\\xFD\\x37\\x7A\\x58\\x5A\\x00': 'LZMA',\n",
    "        b'\\x50\\x4B\\x03\\x04': 'ZIP'\n",
    "    }\n",
    "\n",
    "    with open(file_path, 'rb') as file:\n",
    "        data = file.read()\n",
    "    \n",
    "    # Search for each pattern in the binary data\n",
    "    for pattern, description in patterns.items():\n",
    "        offset = data.find(pattern)\n",
    "        if offset != -1:\n",
    "            print(f\"Found {description} compression marker at offset {offset:08X}\")\n",
    "        else:\n",
    "            print(f\"{description} marker not found\")\n",
    "\n",
    "# Replace with the path to your binary file\n",
    "search_for_patterns('data/DB_1116.gdb')\n"
   ]
  },
  {
   "cell_type": "code",
   "execution_count": 37,
   "id": "212cfff5",
   "metadata": {},
   "outputs": [
    {
     "name": "stdout",
     "output_type": "stream",
     "text": [
      "\n",
      "Attempting to decompress zlib data at offset 0003334A\n",
      "Failed to decompress zlib data at offset 0003334A: Error -3 while decompressing data: invalid block type\n",
      "\n",
      "Attempting to decompress zlib data at offset 0002E59C\n",
      "Failed to decompress zlib data at offset 0002E59C: Error -3 while decompressing data: invalid code lengths set\n",
      "\n",
      "Attempting to decompress GZIP data at offset 000ECF32\n",
      "Failed to decompress GZIP data at offset 000ECF32: Unknown compression method\n"
     ]
    }
   ],
   "source": [
    "\n",
    "def decompress_zlib(data, offset):\n",
    "    try:\n",
    "        # Attempt decompression starting from the given offset\n",
    "        decompressed_data = zlib.decompress(data[offset:])\n",
    "        print(f\"Decompressed zlib data from offset {offset:08X} (first 100 bytes): {decompressed_data[:100]}\")\n",
    "        return decompressed_data\n",
    "    except zlib.error as e:\n",
    "        print(f\"Failed to decompress zlib data at offset {offset:08X}: {e}\")\n",
    "        return None\n",
    "\n",
    "def decompress_gzip(data, offset):\n",
    "    try:\n",
    "        # Gzip requires wrapping the data in a file-like object\n",
    "        decompressed_data = gzip.decompress(data[offset:])\n",
    "        print(f\"Decompressed GZIP data from offset {offset:08X} (first 100 bytes): {decompressed_data[:100]}\")\n",
    "        return decompressed_data\n",
    "    except gzip.BadGzipFile as e:\n",
    "        print(f\"Failed to decompress GZIP data at offset {offset:08X}: {e}\")\n",
    "        return None\n",
    "\n",
    "def read_and_decompress(file_path):\n",
    "    with open(file_path, 'rb') as file:\n",
    "        data = file.read()\n",
    "    \n",
    "    # Found offsets for zlib and GZIP markers\n",
    "    zlib_offsets = [0x3334A, 0x2E59C]\n",
    "    gzip_offsets = [0xECF32]\n",
    "    \n",
    "    # Process zlib sections\n",
    "    for offset in zlib_offsets:\n",
    "        print(f\"\\nAttempting to decompress zlib data at offset {offset:08X}\")\n",
    "        decompressed_data = decompress_zlib(data, offset)\n",
    "    \n",
    "    # Process GZIP sections\n",
    "    for offset in gzip_offsets:\n",
    "        print(f\"\\nAttempting to decompress GZIP data at offset {offset:08X}\")\n",
    "        decompressed_data = decompress_gzip(data, offset)\n",
    "\n",
    "# Replace with the path to your binary file\n",
    "read_and_decompress('data/DB_1116.gdb')\n"
   ]
  },
  {
   "cell_type": "code",
   "execution_count": 38,
   "id": "6c71e79a",
   "metadata": {},
   "outputs": [
    {
     "name": "stdout",
     "output_type": "stream",
     "text": [
      "\n",
      "Attempting partial zlib decompression at offset 0003334A\n",
      "Partial zlib decompression failed at offset 0003334A: Error -3 while decompressing data: invalid block type\n",
      "\n",
      "Attempting partial zlib decompression at offset 0002E59C\n",
      "Partial zlib decompression failed at offset 0002E59C: Error -3 while decompressing data: invalid code lengths set\n",
      "\n",
      "Attempting partial GZIP decompression at offset 000ECF32\n",
      "Partial GZIP decompression failed at offset 000ECF32: Unknown compression method\n"
     ]
    }
   ],
   "source": [
    "def try_partial_zlib_decompression(data, offset, length=1024):\n",
    "    try:\n",
    "        # Attempt to decompress a portion of the data starting at the given offset\n",
    "        decompressed_data = zlib.decompress(data[offset:offset + length])\n",
    "        print(f\"Partial zlib decompression successful at offset {offset:08X} (first 100 bytes): {decompressed_data[:100]}\")\n",
    "        return decompressed_data\n",
    "    except zlib.error as e:\n",
    "        print(f\"Partial zlib decompression failed at offset {offset:08X}: {e}\")\n",
    "        return None\n",
    "\n",
    "def try_partial_gzip_decompression(data, offset, length=1024):\n",
    "    try:\n",
    "        # Attempt to decompress a portion of the data starting at the given offset\n",
    "        decompressed_data = gzip.decompress(data[offset:offset + length])\n",
    "        print(f\"Partial GZIP decompression successful at offset {offset:08X} (first 100 bytes): {decompressed_data[:100]}\")\n",
    "        return decompressed_data\n",
    "    except gzip.BadGzipFile as e:\n",
    "        print(f\"Partial GZIP decompression failed at offset {offset:08X}: {e}\")\n",
    "        return None\n",
    "\n",
    "def read_and_attempt_partial_decompression(file_path):\n",
    "    # Step 1: Read the entire file into memory\n",
    "    with open(file_path, 'rb') as file:\n",
    "        data = file.read()\n",
    "    \n",
    "    # Step 2: Offsets identified for zlib and GZIP markers\n",
    "    zlib_offsets = [0x3334A, 0x2E59C]\n",
    "    gzip_offsets = [0xECF32]\n",
    "    \n",
    "    # Step 3: Try partial decompression for each zlib offset\n",
    "    for i, offset in enumerate(zlib_offsets, start=1):\n",
    "        print(f\"\\nAttempting partial zlib decompression at offset {offset:08X}\")\n",
    "        try_partial_zlib_decompression(data, offset)\n",
    "    \n",
    "    # Step 4: Try partial decompression for each GZIP offset\n",
    "    for i, offset in enumerate(gzip_offsets, start=1):\n",
    "        print(f\"\\nAttempting partial GZIP decompression at offset {offset:08X}\")\n",
    "        try_partial_gzip_decompression(data, offset)\n",
    "\n",
    "# Replace with the path to your binary file\n",
    "read_and_attempt_partial_decompression('data/DB_1116.gdb')\n"
   ]
  },
  {
   "cell_type": "code",
   "execution_count": 68,
   "id": "e260af79",
   "metadata": {},
   "outputs": [
    {
     "name": "stdout",
     "output_type": "stream",
     "text": [
      "Saved segment around offset 0003334A to segment_0003334A.bin\n",
      "Saved segment around offset 0002E59C to segment_0002E59C.bin\n",
      "Saved segment around offset 000ECF32 to segment_000ECF32.bin\n"
     ]
    }
   ],
   "source": [
    "def extract_segment(data, offset, length=500):\n",
    "    # Extract data around the offset to inspect it more closely\n",
    "    #start = max(0, offset - 100)  # Start 100 bytes before offset\n",
    "    start = max(0, offset - 0)  # Start 100 bytes before offset\n",
    "    end = offset + length          # Go 500 bytes past offset\n",
    "    segment = data[start:end]\n",
    "    \n",
    "    # Save to file for external inspection\n",
    "    output_file = f'segment_{offset:08X}.bin'\n",
    "    with open(output_file, 'wb') as f:\n",
    "        f.write(segment)\n",
    "    \n",
    "    print(f\"Saved segment around offset {offset:08X} to {output_file}\")\n",
    "    return segment\n",
    "\n",
    "# Example of use\n",
    "with open('data/DB_1116.gdb', 'rb') as file:\n",
    "    data = file.read()\n",
    "    offsets = [0x3334A, 0x2E59C, 0xECF32]\n",
    "    for offset in offsets:\n",
    "        extract_segment(data, offset)\n"
   ]
  },
  {
   "cell_type": "code",
   "execution_count": 41,
   "id": "5137a2dc",
   "metadata": {},
   "outputs": [
    {
     "name": "stdout",
     "output_type": "stream",
     "text": [
      "\n",
      "Attempting partial zlib decompression at offset 0003334A\n",
      "Partial zlib decompression failed at offset 0003334A: Error -5 while decompressing data: incomplete or truncated stream\n",
      "\n",
      "Attempting partial zlib decompression at offset 0002E59C\n",
      "Partial zlib decompression failed at offset 0002E59C: Error -5 while decompressing data: incomplete or truncated stream\n",
      "\n",
      "Attempting partial GZIP decompression at offset 000ECF32\n",
      "Partial GZIP decompression successful at offset 000ECF32 (first 100 bytes): b''\n",
      "\n",
      "Attempting partial zlib decompression at offset 0003334A\n",
      "Partial zlib decompression failed at offset 0003334A: Error -5 while decompressing data: incomplete or truncated stream\n",
      "\n",
      "Attempting partial zlib decompression at offset 0002E59C\n",
      "Partial zlib decompression failed at offset 0002E59C: Error -5 while decompressing data: incomplete or truncated stream\n",
      "\n",
      "Attempting partial GZIP decompression at offset 000ECF32\n",
      "Partial GZIP decompression successful at offset 000ECF32 (first 100 bytes): b''\n",
      "\n",
      "Attempting partial zlib decompression at offset 0003334A\n",
      "Partial zlib decompression failed at offset 0003334A: Error -5 while decompressing data: incomplete or truncated stream\n",
      "\n",
      "Attempting partial zlib decompression at offset 0002E59C\n",
      "Partial zlib decompression failed at offset 0002E59C: Error -5 while decompressing data: incomplete or truncated stream\n",
      "\n",
      "Attempting partial GZIP decompression at offset 000ECF32\n",
      "Partial GZIP decompression successful at offset 000ECF32 (first 100 bytes): b''\n"
     ]
    }
   ],
   "source": [
    "# Replace with the path to your binary file\n",
    "read_and_attempt_partial_decompression('segment_000ECF32.bin')\n",
    "\n",
    "read_and_attempt_partial_decompression('segment_0002E59C.bin')\n",
    "\n",
    "read_and_attempt_partial_decompression('segment_0003334A.bin')\n"
   ]
  },
  {
   "cell_type": "code",
   "execution_count": 50,
   "id": "d259c7cd",
   "metadata": {},
   "outputs": [
    {
     "name": "stdout",
     "output_type": "stream",
     "text": [
      "\n",
      "Attempting partial GZIP decompression at offset 00023420\n",
      "Partial GZIP decompression failed at offset 00023420: Not a gzipped file (b'\\x00\\x00')\n"
     ]
    }
   ],
   "source": [
    "def read_and_attempt_partial_gzip_decompression(file_path):\n",
    "    # Step 1: Read the entire file into memory\n",
    "    with open(file_path, 'rb') as file:\n",
    "        data = file.read()\n",
    "    \n",
    "    gzip_offsets = [0x1F9F0]\n",
    "    gzip_offsets = [0x23420]\n",
    "    \n",
    "    # Step 4: Try partial decompression for each GZIP offset\n",
    "    for i, offset in enumerate(gzip_offsets, start=100):\n",
    "        print(f\"\\nAttempting partial GZIP decompression at offset {offset:08X}\")\n",
    "        decomp = try_partial_gzip_decompression(data, offset)\n",
    "        return decomp\n",
    "\n",
    "# Replace with the path to your binary file\n",
    "read_and_attempt_partial_gzip_decompression('data/DB_1116.gdb')\n",
    "\n"
   ]
  },
  {
   "cell_type": "code",
   "execution_count": 46,
   "id": "930262c2",
   "metadata": {},
   "outputs": [
    {
     "name": "stdout",
     "output_type": "stream",
     "text": [
      "Saved segment around offset 000234E0 to segment_000234E0.bin\n"
     ]
    }
   ],
   "source": [
    "with open('data/DB_1116.gdb', 'rb') as file:\n",
    "    data = file.read()\n",
    "    offsets = [0x234E0]\n",
    "    for offset in offsets:\n",
    "        extract_segment(data, offset)\n"
   ]
  },
  {
   "cell_type": "code",
   "execution_count": 65,
   "id": "9c9227cf",
   "metadata": {},
   "outputs": [],
   "source": [
    "def try_partial_gzip_decompression(data, offset, length=1024):\n",
    "    try:\n",
    "        print(data)\n",
    "        # Attempt to decompress a portion of the data starting at the given offset\n",
    "        decompressed_data = gzip.decompress(data[offset:offset + length])\n",
    "        print(\"DD:\",decompressed_data)\n",
    "        print(f\"Partial GZIP decompression successful at offset {offset:08X} (first 100 bytes): {decompressed_data[:100]}\")\n",
    "        return decompressed_data\n",
    "    except gzip.BadGzipFile as e:\n",
    "        print(f\"Partial GZIP decompression failed at offset {offset:08X}: {e}\")\n",
    "        return None\n",
    "\n",
    "def read_and_attempt_partial_gzip_decompression(file_path):\n",
    "    # Step 1: Read the entire file into memory\n",
    "    with open(file_path, 'rb') as file:\n",
    "        data = file.read()\n",
    "    \n",
    "    gzip_offsets = [0x1F9F0]\n",
    "    gzip_offsets = [0x00000]\n",
    "    \n",
    "    # Step 4: Try partial decompression for each GZIP offset\n",
    "    for i, offset in enumerate(gzip_offsets):\n",
    "        print(f\"\\nAttempting partial GZIP decompression at offset {offset:08X}\")\n",
    "        decomp = try_partial_gzip_decompression(data, offset)\n",
    "        return decomp\n"
   ]
  },
  {
   "cell_type": "code",
   "execution_count": 69,
   "id": "71b15c54",
   "metadata": {},
   "outputs": [
    {
     "name": "stdout",
     "output_type": "stream",
     "text": [
      "\n",
      "Attempting partial GZIP decompression at offset 00000000\n",
      "b'\\x1f\\x8b\\xc8\\x1cA+c\\xa2\\\\\\xa6\\x02\\x08\\xd1\\xe5\\x08\\x82\\x05\\x9a\\xc1\\x02\\x08\\xb6hi\\xd7\\xdc\\x02\\x08{\\xeb\\xcc\\x14\\xf8\\x02\\x08\\x00 Sn0R\\x13\\xc9\\x1cA\\xc2\\xf1\\x93\\x8f.\\x02\\x08\\x16u\\x08\\x82\\xf7\\xccI\\x02\\x08\\xa9\\xf8Z\\ne\\x02\\x08\\x91|\\xbeG\\x80\\x02\\x08 \\x08\\x8d\\x00\"\\x85\\x9b\\x02\\x08T\\xf0\\xc2\\xcc\\xb6\\x02\\x08`t&\\n\\x82\\x00\\xd2\\x02\\x08\\x93d\\xc7Q\\xed\\x02\\x08g\\xe9*\\x8f\\x08\\xca\\x1cA \\x08\\xc4\\xd9\\xcb\\xd6#\\x02\\x08\\xdd\\xc9l\\x1e?\\x02\\x08\\xf3%Kp\\x82 Z\\x02\\x08N\\x16\\xec\\xb7u\\x02\\x08\\xc1r\\xca\\t\\x91\\x02\\x08\\x1e\\xcf\\x08\\x82\\xa8[\\xac\\x02\\x08\\xaa+\\x87\\xad\\xc7\\x02\\x08\"\\x88e\\xff\\xe2\\x02\\x08 \\x00\\xfa\\xe4CQ\\xfe\\x02\\x08\\xf0\\xad_\\xad\\x19\\xcb\\x1cA\\xd5v\\x08\\x82{\\t5\\x02\\x08\\xdb?\\x97eP\\x02\\x08+\\t\\xb3\\xc1k\\x02\\x08 \\x08H>\\x0c(\\x87\\x02\\x08\\x85se\\x8e\\xa2\\x02\\x08\\x17\\xa9\\xbe\\xf4\\x82 \\xbd\\x02\\x08p\\xde\\x17[\\xd9\\x02\\x08\\xcd\\x7f\\xae\\xcb\\xf4\\x02\\x08~!\\x00\\x08E<\\x10\\xcc\\x1cA\\xec?\\xa8y,\\x02\\x08\\x89\\xe1>\\xea\\x82 G\\x02\\x08\\xb4\\xee\\x12ec\\x02\\x08\\x14\\xfc\\xe6\\xdf~\\x02\\x08\\xd8\\t\\x08\\x82\\xbbZ\\x9a\\x02\\x08w\\x82\\xcc\\xdf\\xb5\\x02\\x08\\x9d\\xfb\\xddd\\xd1\\x02\\x08 \\x00\\x10t\\xef\\xe9\\xec\\x02\\x08\\xec\\xec\\x00o\\x08\\xcd\\x1cA\\x0b\\xd2\\x08\\x82O\\xfe#\\x02\\x08\\x8f\\xb6\\x9e\\x8d?\\x02\\x08\\x060\\xb0\\x12[\\x02\\x08 \\x08)\\x15\\xff\\xa1v\\x02\\x081\\x8e\\x10\\'\\x92\\x02\\x08ss_\\xb6\\x82 \\xad\\x02\\x08\\xb9X\\xaeE\\xc9\\x02\\x08W\\xd2\\xbf\\xca\\xe4\\x02\\x08\\xbe\\xb7\\x00\\x08\\x0eZ\\x00\\xce\\x1cA\\xeb0 \\xdf\\x1b\\x02\\x08z\\xaa1d\\x82 7\\x02\\x08\\x0c$C\\xe9R\\x02\\x08r1\\x17dn\\x02\\x08\\x02\\xab\\x08\\x82(\\xe9\\x89\\x02\\x08h\\xb8\\xfcc\\xa5\\x02\\x08\\xa01\\x0e\\xe9\\xc0\\x02\\x08 \\x08\\xd0>\\xe2c\\xdc\\x02\\x08\\x86\\xe0x\\xd4\\xf7\\x02\\x08L\\xedLO\\x00\\x82\\x13\\xcf\\x1cA\\xb8\\x8e\\xe3\\xbf.\\x02\\x08\\xe6/z0J\\x02'\n",
      "Partial GZIP decompression failed at offset 00000000: Unknown compression method\n"
     ]
    }
   ],
   "source": [
    "read_and_attempt_partial_gzip_decompression('segment_000ECF32.bin')"
   ]
  },
  {
   "cell_type": "code",
   "execution_count": null,
   "id": "0f2a2ed6",
   "metadata": {},
   "outputs": [],
   "source": []
  }
 ],
 "metadata": {
  "kernelspec": {
   "display_name": "Python [conda env:pangeo] *",
   "language": "python",
   "name": "conda-env-pangeo-py"
  },
  "language_info": {
   "codemirror_mode": {
    "name": "ipython",
    "version": 3
   },
   "file_extension": ".py",
   "mimetype": "text/x-python",
   "name": "python",
   "nbconvert_exporter": "python",
   "pygments_lexer": "ipython3",
   "version": "3.9.16"
  }
 },
 "nbformat": 4,
 "nbformat_minor": 5
}
