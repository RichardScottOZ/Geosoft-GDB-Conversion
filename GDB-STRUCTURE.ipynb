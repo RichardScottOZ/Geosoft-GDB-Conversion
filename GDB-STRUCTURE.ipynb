{
 "cells": [
  {
   "cell_type": "code",
   "execution_count": 21,
   "id": "04500ee4",
   "metadata": {},
   "outputs": [],
   "source": [
    "import struct\n",
    "import array\n",
    "import zlib\n",
    "import numpy as np\n",
    "import xarray as xr\n"
   ]
  },
  {
   "cell_type": "code",
   "execution_count": 7,
   "id": "feccd1d0",
   "metadata": {},
   "outputs": [
    {
     "name": "stdout",
     "output_type": "stream",
     "text": [
      "File Description: \u0002\u0010\b\u0001\n",
      "Magic Number: 50\n"
     ]
    }
   ],
   "source": [
    "def read_gdb_file(file_path):\n",
    "    with open(file_path, 'rb') as file:\n",
    "\n",
    "        header = file.read(24)\n",
    "        #file_code, = struct.unpack('<i', header[:4])\n",
    "        file_description = header[4:24].decode('utf-8').strip('\\x00')\n",
    "        \n",
    "        magic_number = struct.unpack(\"<I\", file.read(4))[0]\n",
    "        \n",
    "        #print(f\"File Code: {file_code}\")\n",
    "        print(f\"File Description: {file_description}\")\n",
    "        \n",
    "        print(f\"Magic Number: {magic_number}\")\n",
    "\n",
    "# Use the function\n",
    "read_gdb_file('data/DB_1116.gdb')"
   ]
  },
  {
   "cell_type": "code",
   "execution_count": 32,
   "id": "8d0c6dcf",
   "metadata": {},
   "outputs": [
    {
     "name": "stdout",
     "output_type": "stream",
     "text": [
      "b'\\x02\\x10\\x08'\n",
      "b'!CBD\\x00\\x00\\x00\\x00\\x00\\x00\\x02\\x10\\x08\\x01\\x00\\x00\\x00\\x00\\x00\\x00\\x00\\x00\\x00\\x002\\x00\\x00\\x00^\\x01\\x00\\x00d\\x00\\x00\\x00\\xc8\\x00\\x00\\x00\\n\\x00\\x00\\x00\\xdc(\\x00\\x00\\x10\\'\\x00\\x00n(\\x00\\x00x(\\x00\\x00x(\\x00\\x00b\\x02\\x00\\x00\\x00\\x00\\x00\\x00^\\x01\\x00\\x00&\\x02\\x00\\x00X\\x02\\x00\\x00^\\x01\\x00\\x00\\xc8\\x00\\x00\\x002\\x00\\x00\\x00\\n\\x00\\x00\\x00\\x00\\x04\\x00\\x00@\\'\\x02\\x00\\x8a\\x00\\x00\\x00\"=\\x00\\x00\\x00\\x00\\x00\\x00\\x01\\x00\\x00\\x00\\x00\\x00\\x00\\x00\\x00\\x00\\x00\\x00\\x00\\x00\\x00\\x00\\x00\\x00\\x00\\x00\\x00\\x00\\x00\\x00\\x00\\x00\\x00\\x00\\x00\\x00\\x00\\x00\\x00\\x00\\x00\\x00\\x00\\x00\\x00\\x00\\x00\\x00\\x00\\x00\\x00\\x00\\x00\\x00\\x00\\x00\\x00\\x00\\x00\\x00\\x00\\x00\\x00\\x00\\x00\\x00\\x00\\x00\\x00\\x00\\x00\\x00\\x00\\x00\\x00\\x00\\x00\\x00\\x00\\x00\\x00\\x00\\x00\\x00\\x00\\x00\\x00\\x00\\x00\\x00\\x00\\x00\\x00\\x00\\x00\\x00\\x00\\x00\\x00\\x00\\x00\\x00\\x00\\x00\\x00\\x00\\x00\\x00\\x00\\x00\\x00\\x00\\x00\\x00\\x00\\x00\\x00\\x00\\x00\\x00\\x00\\x00\\x00\\x00\\x00\\x00\\x00\\x00\\x00\\x00\\x00\\x00\\x00\\x00\\x00\\x00\\x00\\x00\\x00\\x00\\x00\\x00'\n"
     ]
    },
    {
     "ename": "error",
     "evalue": "Error -3 while decompressing data: incorrect header check",
     "output_type": "error",
     "traceback": [
      "\u001b[1;31m---------------------------------------------------------------------------\u001b[0m",
      "\u001b[1;31merror\u001b[0m                                     Traceback (most recent call last)",
      "Cell \u001b[1;32mIn[32], line 26\u001b[0m\n\u001b[0;32m     23\u001b[0m             \u001b[38;5;28mprint\u001b[39m(\u001b[38;5;124m\"\u001b[39m\u001b[38;5;124mRecord Data:\u001b[39m\u001b[38;5;124m\"\u001b[39m, record_data)\n\u001b[0;32m     25\u001b[0m \u001b[38;5;66;03m# Example usage\u001b[39;00m\n\u001b[1;32m---> 26\u001b[0m \u001b[43mread_geosoft_gdb\u001b[49m\u001b[43m(\u001b[49m\u001b[38;5;124;43m'\u001b[39;49m\u001b[38;5;124;43mdata/DB_1116.gdb\u001b[39;49m\u001b[38;5;124;43m'\u001b[39;49m\u001b[43m)\u001b[49m \n",
      "Cell \u001b[1;32mIn[32], line 7\u001b[0m, in \u001b[0;36mread_geosoft_gdb\u001b[1;34m(file_path)\u001b[0m\n\u001b[0;32m      5\u001b[0m \u001b[38;5;28mprint\u001b[39m(header[\u001b[38;5;241m10\u001b[39m:\u001b[38;5;241m13\u001b[39m])\n\u001b[0;32m      6\u001b[0m \u001b[38;5;28mprint\u001b[39m(header)\n\u001b[1;32m----> 7\u001b[0m grid_sub \u001b[38;5;241m=\u001b[39m \u001b[43mzlib\u001b[49m\u001b[38;5;241;43m.\u001b[39;49m\u001b[43mdecompress\u001b[49m\u001b[43m(\u001b[49m\u001b[43mheader\u001b[49m\u001b[43m[\u001b[49m\u001b[38;5;241;43m10\u001b[39;49m\u001b[43m:\u001b[49m\u001b[38;5;241;43m13\u001b[39;49m\u001b[43m]\u001b[49m\u001b[43m)\u001b[49m\n\u001b[0;32m      8\u001b[0m \u001b[38;5;28mprint\u001b[39m(grd_sub)\n\u001b[0;32m     10\u001b[0m \u001b[38;5;66;03m# Unpack the header (example: assuming the header contains an integer and a float)\u001b[39;00m\n\u001b[0;32m     11\u001b[0m \u001b[38;5;66;03m#header_data = struct.unpack('if', header[:8])\u001b[39;00m\n",
      "\u001b[1;31merror\u001b[0m: Error -3 while decompressing data: incorrect header check"
     ]
    }
   ],
   "source": [
    "def read_geosoft_gdb(file_path):\n",
    "    with open(file_path, 'rb') as file:\n",
    "        # Read the header (example: assuming the header is 256 bytes)\n",
    "        header = file.read(256)\n",
    "        print(header[10:13])\n",
    "        print(header)\n",
    "        grid_sub = zlib.decompress(header[10:13])\n",
    "        print(grd_sub)\n",
    "        \n",
    "        # Unpack the header (example: assuming the header contains an integer and a float)\n",
    "        #header_data = struct.unpack('if', header[:8])\n",
    "        header_data = struct.unpack('ssss', header[:4])\n",
    "        print(\"Header Data:\", header_data)\n",
    "        \n",
    "        # Read the rest of the file (example: assuming the rest of the file contains records of 16 bytes each)\n",
    "        while True:\n",
    "            record = file.read(16)\n",
    "            break\n",
    "            if not record:\n",
    "                break\n",
    "            # Unpack the record (example: assuming each record contains two integers and two floats)\n",
    "            record_data = struct.unpack('iiff', record)\n",
    "            print(\"Record Data:\", record_data)\n",
    "\n",
    "# Example usage\n",
    "read_geosoft_gdb('data/DB_1116.gdb') "
   ]
  },
  {
   "cell_type": "code",
   "execution_count": 26,
   "id": "80c77b5b",
   "metadata": {},
   "outputs": [
    {
     "ename": "NameError",
     "evalue": "name 'header' is not defined",
     "output_type": "error",
     "traceback": [
      "\u001b[1;31m---------------------------------------------------------------------------\u001b[0m",
      "\u001b[1;31mNameError\u001b[0m                                 Traceback (most recent call last)",
      "Cell \u001b[1;32mIn[26], line 1\u001b[0m\n\u001b[1;32m----> 1\u001b[0m \u001b[43mheader\u001b[49m\u001b[38;5;241m.\u001b[39mshape\n",
      "\u001b[1;31mNameError\u001b[0m: name 'header' is not defined"
     ]
    }
   ],
   "source": [
    "header.shape"
   ]
  },
  {
   "cell_type": "code",
   "execution_count": 17,
   "id": "56ae90d5",
   "metadata": {},
   "outputs": [
    {
     "data": {
      "text/plain": [
       "40448"
      ]
     },
     "execution_count": 17,
     "metadata": {},
     "output_type": "execute_result"
    }
   ],
   "source": [
    "62416 - 21968"
   ]
  },
  {
   "cell_type": "code",
   "execution_count": 19,
   "id": "1f0dcaa1",
   "metadata": {},
   "outputs": [
    {
     "data": {
      "text/plain": [
       "158.0"
      ]
     },
     "execution_count": 19,
     "metadata": {},
     "output_type": "execute_result"
    }
   ],
   "source": [
    "40448 / 256"
   ]
  },
  {
   "cell_type": "code",
   "execution_count": 31,
   "id": "7ed4601d",
   "metadata": {},
   "outputs": [
    {
     "ename": "NameError",
     "evalue": "name 'header' is not defined",
     "output_type": "error",
     "traceback": [
      "\u001b[1;31m---------------------------------------------------------------------------\u001b[0m",
      "\u001b[1;31mNameError\u001b[0m                                 Traceback (most recent call last)",
      "Cell \u001b[1;32mIn[31], line 1\u001b[0m\n\u001b[1;32m----> 1\u001b[0m grid_sub \u001b[38;5;241m=\u001b[39m zlib\u001b[38;5;241m.\u001b[39mdecompress(\u001b[43mheader\u001b[49m[\u001b[38;5;241m10\u001b[39m:\u001b[38;5;241m13\u001b[39m])\n",
      "\u001b[1;31mNameError\u001b[0m: name 'header' is not defined"
     ]
    }
   ],
   "source": [
    "\n"
   ]
  },
  {
   "cell_type": "code",
   "execution_count": null,
   "id": "5c10451e",
   "metadata": {},
   "outputs": [],
   "source": []
  }
 ],
 "metadata": {
  "kernelspec": {
   "display_name": "Python [conda env:pangeo] *",
   "language": "python",
   "name": "conda-env-pangeo-py"
  },
  "language_info": {
   "codemirror_mode": {
    "name": "ipython",
    "version": 3
   },
   "file_extension": ".py",
   "mimetype": "text/x-python",
   "name": "python",
   "nbconvert_exporter": "python",
   "pygments_lexer": "ipython3",
   "version": "3.9.16"
  }
 },
 "nbformat": 4,
 "nbformat_minor": 5
}
