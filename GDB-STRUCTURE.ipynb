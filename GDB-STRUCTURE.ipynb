{
 "cells": [
  {
   "cell_type": "code",
   "execution_count": 21,
   "id": "621364fa",
   "metadata": {},
   "outputs": [],
   "source": [
    "import struct\n",
    "import array\n",
    "import zlib\n",
    "import numpy as np\n",
    "import xarray as xr\n"
   ]
  },
  {
   "cell_type": "code",
   "execution_count": 7,
   "id": "535f883d",
   "metadata": {},
   "outputs": [
    {
     "name": "stdout",
     "output_type": "stream",
     "text": [
      "File Description: \u0002\u0010\b\u0001\n",
      "Magic Number: 50\n"
     ]
    }
   ],
   "source": [
    "def read_gdb_file(file_path):\n",
    "    with open(file_path, 'rb') as file:\n",
    "\n",
    "        header = file.read(24)\n",
    "        #file_code, = struct.unpack('<i', header[:4])\n",
    "        file_description = header[4:24].decode('utf-8').strip('\\x00')\n",
    "        \n",
    "        magic_number = struct.unpack(\"<I\", file.read(4))[0]\n",
    "        \n",
    "        #print(f\"File Code: {file_code}\")\n",
    "        print(f\"File Description: {file_description}\")\n",
    "        \n",
    "        print(f\"Magic Number: {magic_number}\")\n",
    "\n",
    "# Use the function\n",
    "read_gdb_file('data/DB_1116.gdb')"
   ]
  },
  {
   "cell_type": "code",
   "execution_count": 35,
   "id": "d55ec6ec",
   "metadata": {},
   "outputs": [
    {
     "name": "stdout",
     "output_type": "stream",
     "text": [
      "b'\\x02\\x10\\x08'\n",
      "b'!CBD\\x00\\x00\\x00\\x00\\x00\\x00\\x02\\x10\\x08\\x01\\x00\\x00\\x00\\x00\\x00\\x00\\x00\\x00\\x00\\x002\\x00\\x00\\x00^\\x01\\x00\\x00d\\x00\\x00\\x00\\xc8\\x00\\x00\\x00\\n\\x00\\x00\\x00\\xdc(\\x00\\x00\\x10\\'\\x00\\x00n(\\x00\\x00x(\\x00\\x00x(\\x00\\x00b\\x02\\x00\\x00\\x00\\x00\\x00\\x00^\\x01\\x00\\x00&\\x02\\x00\\x00X\\x02\\x00\\x00^\\x01\\x00\\x00\\xc8\\x00\\x00\\x002\\x00\\x00\\x00\\n\\x00\\x00\\x00\\x00\\x04\\x00\\x00@\\'\\x02\\x00\\x8a\\x00\\x00\\x00\"=\\x00\\x00\\x00\\x00\\x00\\x00\\x01\\x00\\x00\\x00\\x00\\x00\\x00\\x00\\x00\\x00\\x00\\x00\\x00\\x00\\x00\\x00\\x00\\x00\\x00\\x00\\x00\\x00\\x00\\x00\\x00\\x00\\x00\\x00\\x00\\x00\\x00\\x00\\x00\\x00\\x00\\x00\\x00\\x00\\x00\\x00\\x00\\x00\\x00\\x00\\x00\\x00\\x00\\x00\\x00\\x00\\x00\\x00\\x00\\x00\\x00\\x00\\x00\\x00\\x00\\x00\\x00\\x00\\x00\\x00\\x00\\x00\\x00\\x00\\x00\\x00\\x00\\x00\\x00\\x00\\x00\\x00\\x00\\x00\\x00\\x00\\x00\\x00\\x00\\x00\\x00\\x00\\x00\\x00\\x00\\x00\\x00\\x00\\x00\\x00\\x00\\x00\\x00\\x00\\x00\\x00\\x00\\x00\\x00\\x00\\x00\\x00\\x00\\x00\\x00\\x00\\x00\\x00\\x00\\x00\\x00\\x00\\x00\\x00\\x00\\x00\\x00\\x00\\x00\\x00\\x00\\x00\\x00\\x00\\x00\\x00\\x00\\x00\\x00\\x00\\x00\\x00'\n",
      "Header Data: (b'!', b'C', b'B', b'D')\n"
     ]
    }
   ],
   "source": [
    "def read_geosoft_gdb(file_path):\n",
    "    with open(file_path, 'rb') as file:\n",
    "        # Read the header (example: assuming the header is 256 bytes)\n",
    "        header = file.read(256)\n",
    "        print(header[10:13])\n",
    "        print(header)\n",
    "        \n",
    "        # Unpack the header (example: assuming the header contains an integer and a float)\n",
    "        #header_data = struct.unpack('if', header[:8])\n",
    "        header_data = struct.unpack('ssss', header[:4])\n",
    "        print(\"Header Data:\", header_data)\n",
    "        \n",
    "        # Read the rest of the file (example: assuming the rest of the file contains records of 16 bytes each)\n",
    "        while True:\n",
    "            record = file.read(16)\n",
    "            break\n",
    "            if not record:\n",
    "                break\n",
    "            # Unpack the record (example: assuming each record contains two integers and two floats)\n",
    "            record_data = struct.unpack('iiff', record)\n",
    "            print(\"Record Data:\", record_data)\n",
    "\n",
    "# Example usage\n",
    "read_geosoft_gdb('data/DB_1116.gdb') "
   ]
  },
  {
   "cell_type": "code",
   "execution_count": 33,
   "id": "84efb0a8",
   "metadata": {},
   "outputs": [
    {
     "name": "stdout",
     "output_type": "stream",
     "text": [
      "Found zlib (deflate) compression marker at offset 0003334A\n",
      "Found zlib (deflate) compression marker at offset 0002E59C\n",
      "Found GZIP compression marker at offset 000ECF32\n",
      "BZIP2 marker not found\n",
      "LZMA marker not found\n",
      "ZIP marker not found\n"
     ]
    }
   ],
   "source": [
    "def search_for_patterns(file_path):\n",
    "    # Known compression signatures and their descriptions\n",
    "    patterns = {\n",
    "        b'\\x78\\x9C': 'zlib (deflate)',\n",
    "        b'\\x78\\xDA': 'zlib (deflate)',\n",
    "        b'\\x1F\\x8B': 'GZIP',\n",
    "        b'\\x42\\x5A\\x68': 'BZIP2',\n",
    "        b'\\xFD\\x37\\x7A\\x58\\x5A\\x00': 'LZMA',\n",
    "        b'\\x50\\x4B\\x03\\x04': 'ZIP'\n",
    "    }\n",
    "\n",
    "    with open(file_path, 'rb') as file:\n",
    "        data = file.read()\n",
    "    \n",
    "    # Search for each pattern in the binary data\n",
    "    for pattern, description in patterns.items():\n",
    "        offset = data.find(pattern)\n",
    "        if offset != -1:\n",
    "            print(f\"Found {description} compression marker at offset {offset:08X}\")\n",
    "        else:\n",
    "            print(f\"{description} marker not found\")\n",
    "\n",
    "# Replace with the path to your binary file\n",
    "search_for_patterns('data/DB_1116.gdb')\n"
   ]
  },
  {
   "cell_type": "code",
   "execution_count": null,
   "id": "2876779e",
   "metadata": {},
   "outputs": [],
   "source": []
  }
 ],
 "metadata": {
  "kernelspec": {
   "display_name": "Python [conda env:pangeo] *",
   "language": "python",
   "name": "conda-env-pangeo-py"
  },
  "language_info": {
   "codemirror_mode": {
    "name": "ipython",
    "version": 3
   },
   "file_extension": ".py",
   "mimetype": "text/x-python",
   "name": "python",
   "nbconvert_exporter": "python",
   "pygments_lexer": "ipython3",
   "version": "3.9.16"
  }
 },
 "nbformat": 4,
 "nbformat_minor": 5
}
